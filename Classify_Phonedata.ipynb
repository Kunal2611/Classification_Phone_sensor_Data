{
 "cells": [
  {
   "cell_type": "code",
   "execution_count": 1,
   "metadata": {},
   "outputs": [],
   "source": [
    "import pandas as pd\n",
    "import numpy as np\n",
    "from sklearn.preprocessing import StandardScaler"
   ]
  },
  {
   "cell_type": "markdown",
   "metadata": {},
   "source": [
    "### Loadind Data"
   ]
  },
  {
   "cell_type": "code",
   "execution_count": 2,
   "metadata": {},
   "outputs": [],
   "source": [
    "df_train = pd.read_csv('Cleaned_Train_data.csv')\n",
    "df_test = pd.read_csv('Cleaned_Test_data.csv')"
   ]
  },
  {
   "cell_type": "markdown",
   "metadata": {},
   "source": [
    "### pre-processing"
   ]
  },
  {
   "cell_type": "code",
   "execution_count": 3,
   "metadata": {},
   "outputs": [],
   "source": [
    "X_train = df_train.iloc[:,1:]\n",
    "Y_train = df_train.iloc[:,0]\n",
    "X_test = df_test.iloc[:,1:]\n",
    "Y_test = df_test.iloc[:,0]\n"
   ]
  },
  {
   "cell_type": "code",
   "execution_count": 4,
   "metadata": {},
   "outputs": [
    {
     "data": {
      "text/html": [
       "<div>\n",
       "<style scoped>\n",
       "    .dataframe tbody tr th:only-of-type {\n",
       "        vertical-align: middle;\n",
       "    }\n",
       "\n",
       "    .dataframe tbody tr th {\n",
       "        vertical-align: top;\n",
       "    }\n",
       "\n",
       "    .dataframe thead th {\n",
       "        text-align: right;\n",
       "    }\n",
       "</style>\n",
       "<table border=\"1\" class=\"dataframe\">\n",
       "  <thead>\n",
       "    <tr style=\"text-align: right;\">\n",
       "      <th></th>\n",
       "      <th>a-x</th>\n",
       "      <th>a-y</th>\n",
       "      <th>a-z</th>\n",
       "      <th>g-x</th>\n",
       "      <th>g-y</th>\n",
       "      <th>g-z</th>\n",
       "    </tr>\n",
       "  </thead>\n",
       "  <tbody>\n",
       "    <tr>\n",
       "      <th>0</th>\n",
       "      <td>3.350739</td>\n",
       "      <td>8.355515</td>\n",
       "      <td>-3.3041077;</td>\n",
       "      <td>0.811447</td>\n",
       "      <td>0.440994</td>\n",
       "      <td>-1.1239166;</td>\n",
       "    </tr>\n",
       "    <tr>\n",
       "      <th>1</th>\n",
       "      <td>3.751190</td>\n",
       "      <td>11.994522</td>\n",
       "      <td>-3.6960754;</td>\n",
       "      <td>0.316513</td>\n",
       "      <td>0.900757</td>\n",
       "      <td>-0.92803955;</td>\n",
       "    </tr>\n",
       "    <tr>\n",
       "      <th>2</th>\n",
       "      <td>3.538361</td>\n",
       "      <td>10.114059</td>\n",
       "      <td>-1.687439;</td>\n",
       "      <td>0.187683</td>\n",
       "      <td>0.590820</td>\n",
       "      <td>-0.17601013;</td>\n",
       "    </tr>\n",
       "    <tr>\n",
       "      <th>3</th>\n",
       "      <td>4.804016</td>\n",
       "      <td>7.259460</td>\n",
       "      <td>-0.61299133;</td>\n",
       "      <td>0.340454</td>\n",
       "      <td>0.755875</td>\n",
       "      <td>0.7628479;</td>\n",
       "    </tr>\n",
       "    <tr>\n",
       "      <th>4</th>\n",
       "      <td>5.411392</td>\n",
       "      <td>8.652054</td>\n",
       "      <td>-2.2126312;</td>\n",
       "      <td>0.475555</td>\n",
       "      <td>0.825500</td>\n",
       "      <td>0.10922241;</td>\n",
       "    </tr>\n",
       "    <tr>\n",
       "      <th>...</th>\n",
       "      <td>...</td>\n",
       "      <td>...</td>\n",
       "      <td>...</td>\n",
       "      <td>...</td>\n",
       "      <td>...</td>\n",
       "      <td>...</td>\n",
       "    </tr>\n",
       "    <tr>\n",
       "      <th>897780</th>\n",
       "      <td>-0.666748</td>\n",
       "      <td>-8.358902</td>\n",
       "      <td>-6.757263;</td>\n",
       "      <td>-0.193161</td>\n",
       "      <td>0.116669</td>\n",
       "      <td>0.027755737;</td>\n",
       "    </tr>\n",
       "    <tr>\n",
       "      <th>897781</th>\n",
       "      <td>-0.703339</td>\n",
       "      <td>-7.996368</td>\n",
       "      <td>-5.5796356;</td>\n",
       "      <td>0.071671</td>\n",
       "      <td>0.599579</td>\n",
       "      <td>0.16012573;</td>\n",
       "    </tr>\n",
       "    <tr>\n",
       "      <th>897782</th>\n",
       "      <td>-1.429382</td>\n",
       "      <td>-8.452072</td>\n",
       "      <td>-5.930725;</td>\n",
       "      <td>-0.064743</td>\n",
       "      <td>-0.117157</td>\n",
       "      <td>-0.22363281;</td>\n",
       "    </tr>\n",
       "    <tr>\n",
       "      <th>897783</th>\n",
       "      <td>-0.767334</td>\n",
       "      <td>-8.038971</td>\n",
       "      <td>-6.09375;</td>\n",
       "      <td>-0.147034</td>\n",
       "      <td>-0.495255</td>\n",
       "      <td>-0.5251007;</td>\n",
       "    </tr>\n",
       "    <tr>\n",
       "      <th>897784</th>\n",
       "      <td>-0.807587</td>\n",
       "      <td>-8.000488</td>\n",
       "      <td>-6.427826;</td>\n",
       "      <td>-0.123383</td>\n",
       "      <td>0.143234</td>\n",
       "      <td>-0.5009918;</td>\n",
       "    </tr>\n",
       "  </tbody>\n",
       "</table>\n",
       "<p>897785 rows × 6 columns</p>\n",
       "</div>"
      ],
      "text/plain": [
       "             a-x        a-y           a-z       g-x       g-y           g-z\n",
       "0       3.350739   8.355515   -3.3041077;  0.811447  0.440994   -1.1239166;\n",
       "1       3.751190  11.994522   -3.6960754;  0.316513  0.900757  -0.92803955;\n",
       "2       3.538361  10.114059    -1.687439;  0.187683  0.590820  -0.17601013;\n",
       "3       4.804016   7.259460  -0.61299133;  0.340454  0.755875    0.7628479;\n",
       "4       5.411392   8.652054   -2.2126312;  0.475555  0.825500   0.10922241;\n",
       "...          ...        ...           ...       ...       ...           ...\n",
       "897780 -0.666748  -8.358902    -6.757263; -0.193161  0.116669  0.027755737;\n",
       "897781 -0.703339  -7.996368   -5.5796356;  0.071671  0.599579   0.16012573;\n",
       "897782 -1.429382  -8.452072    -5.930725; -0.064743 -0.117157  -0.22363281;\n",
       "897783 -0.767334  -8.038971     -6.09375; -0.147034 -0.495255   -0.5251007;\n",
       "897784 -0.807587  -8.000488    -6.427826; -0.123383  0.143234   -0.5009918;\n",
       "\n",
       "[897785 rows x 6 columns]"
      ]
     },
     "execution_count": 4,
     "metadata": {},
     "output_type": "execute_result"
    }
   ],
   "source": [
    "X_test"
   ]
  },
  {
   "cell_type": "code",
   "execution_count": 5,
   "metadata": {},
   "outputs": [
    {
     "data": {
      "text/plain": [
       "a-x    float64\n",
       "a-y    float64\n",
       "a-z     object\n",
       "g-x    float64\n",
       "g-y    float64\n",
       "g-z     object\n",
       "dtype: object"
      ]
     },
     "execution_count": 5,
     "metadata": {},
     "output_type": "execute_result"
    }
   ],
   "source": [
    "X_test.dtypes"
   ]
  },
  {
   "cell_type": "markdown",
   "metadata": {},
   "source": [
    "#### Further Cleaning"
   ]
  },
  {
   "cell_type": "code",
   "execution_count": 6,
   "metadata": {},
   "outputs": [],
   "source": [
    "X_train = X_train.replace('\\;','',regex=True).astype(float)\n",
    "X_test = X_test.replace('\\;','',regex=True).astype(float)"
   ]
  },
  {
   "cell_type": "code",
   "execution_count": 7,
   "metadata": {},
   "outputs": [
    {
     "data": {
      "text/plain": [
       "a-x    float64\n",
       "a-y    float64\n",
       "a-z    float64\n",
       "g-x    float64\n",
       "g-y    float64\n",
       "g-z    float64\n",
       "dtype: object"
      ]
     },
     "execution_count": 7,
     "metadata": {},
     "output_type": "execute_result"
    }
   ],
   "source": [
    "X_test.dtypes"
   ]
  },
  {
   "cell_type": "markdown",
   "metadata": {},
   "source": [
    "#### Scaling"
   ]
  },
  {
   "cell_type": "code",
   "execution_count": 8,
   "metadata": {},
   "outputs": [],
   "source": [
    "sc=StandardScaler()\n",
    "X_train=sc.fit_transform(X_train)\n",
    "X_test=sc.transform(X_test)"
   ]
  },
  {
   "cell_type": "markdown",
   "metadata": {},
   "source": [
    "#### Reducing size of dataset to 30%"
   ]
  },
  {
   "cell_type": "code",
   "execution_count": 9,
   "metadata": {},
   "outputs": [],
   "source": [
    "from sklearn.model_selection import train_test_split"
   ]
  },
  {
   "cell_type": "code",
   "execution_count": 10,
   "metadata": {},
   "outputs": [],
   "source": [
    "X_red_train, X_extra, Y_red_train, y_extra=train_test_split(X_train,Y_train,test_size=0.7,random_state=1)"
   ]
  },
  {
   "cell_type": "code",
   "execution_count": 11,
   "metadata": {},
   "outputs": [
    {
     "data": {
      "text/plain": [
       "Q    23346\n",
       "G    22821\n",
       "R    22610\n",
       "E    22600\n",
       "D    22496\n",
       "S    21505\n",
       "I    21331\n",
       "F    20967\n",
       "A    20876\n",
       "C    20872\n",
       "L    19872\n",
       "H    19857\n",
       "K    19822\n",
       "B    18917\n",
       "M    18794\n",
       "P    18734\n",
       "J    18705\n",
       "O    16836\n",
       "Name: class, dtype: int64"
      ]
     },
     "execution_count": 11,
     "metadata": {},
     "output_type": "execute_result"
    }
   ],
   "source": [
    "Y_red_train.value_counts()"
   ]
  },
  {
   "cell_type": "markdown",
   "metadata": {},
   "source": [
    "#### Model"
   ]
  },
  {
   "cell_type": "code",
   "execution_count": 12,
   "metadata": {},
   "outputs": [],
   "source": [
    "from xgboost import XGBClassifier"
   ]
  },
  {
   "cell_type": "code",
   "execution_count": null,
   "metadata": {},
   "outputs": [],
   "source": [
    "classifier = XGBClassifier()\n",
    "classifier.fit(X_red_train, Y_red_train)"
   ]
  },
  {
   "cell_type": "markdown",
   "metadata": {},
   "source": [
    "   #### Predictions"
   ]
  },
  {
   "cell_type": "code",
   "execution_count": 34,
   "metadata": {},
   "outputs": [],
   "source": [
    "y_pred=classifier.predict(X_test)"
   ]
  },
  {
   "cell_type": "markdown",
   "metadata": {},
   "source": [
    "#### Accuracy"
   ]
  },
  {
   "cell_type": "code",
   "execution_count": 32,
   "metadata": {},
   "outputs": [],
   "source": [
    "from sklearn.metrics import classification_report"
   ]
  },
  {
   "cell_type": "code",
   "execution_count": 36,
   "metadata": {},
   "outputs": [
    {
     "name": "stdout",
     "output_type": "stream",
     "text": [
      "              precision    recall  f1-score   support\n",
      "\n",
      "           A       0.30      0.38      0.34     47336\n",
      "           B       0.61      0.37      0.46     55752\n",
      "           C       0.27      0.25      0.26     54471\n",
      "           D       0.12      0.18      0.14     50906\n",
      "           E       0.33      0.63      0.43     47382\n",
      "           F       0.00      0.00      0.00     50952\n",
      "           G       0.01      0.01      0.01     44218\n",
      "           H       0.09      0.13      0.11     52081\n",
      "           I       0.02      0.01      0.02     48406\n",
      "           J       0.00      0.00      0.00     55499\n",
      "           K       0.17      0.15      0.16     36631\n",
      "           L       0.10      0.06      0.08     55122\n",
      "           M       0.20      0.11      0.14     52483\n",
      "           O       0.26      0.18      0.22     54477\n",
      "           P       0.21      0.24      0.23     50898\n",
      "           Q       0.04      0.06      0.05     48834\n",
      "           R       0.02      0.03      0.03     44998\n",
      "           S       0.07      0.10      0.08     47339\n",
      "\n",
      "    accuracy                           0.16    897785\n",
      "   macro avg       0.16      0.16      0.15    897785\n",
      "weighted avg       0.16      0.16      0.15    897785\n",
      "\n"
     ]
    }
   ],
   "source": [
    "print(classification_report(Y_test,y_pred))"
   ]
  },
  {
   "cell_type": "markdown",
   "metadata": {},
   "source": [
    "## Convert the below Markdown to Code to find the accuracy on validation data "
   ]
  },
  {
   "cell_type": "markdown",
   "metadata": {},
   "source": [
    "df_val = pd.read_csv('Cleaned_val_data.csv')\n",
    "\n",
    "X_val = df_val.iloc[:,1:]\n",
    "Y_val = df_val.iloc[:,0]\n",
    "\n",
    "X_val = X_val.replace('\\;','',regex=True).astype(float)\n",
    "\n",
    "X_val=sc.transform(X_val)\n",
    "\n",
    "y_pred=classifier.predict(X_val)\n",
    "print(classification_report(y_val,y_pred))"
   ]
  },
  {
   "cell_type": "code",
   "execution_count": null,
   "metadata": {},
   "outputs": [],
   "source": []
  },
  {
   "cell_type": "code",
   "execution_count": null,
   "metadata": {},
   "outputs": [],
   "source": []
  }
 ],
 "metadata": {
  "kernelspec": {
   "display_name": "Python 3",
   "language": "python",
   "name": "python3"
  },
  "language_info": {
   "codemirror_mode": {
    "name": "ipython",
    "version": 3
   },
   "file_extension": ".py",
   "mimetype": "text/x-python",
   "name": "python",
   "nbconvert_exporter": "python",
   "pygments_lexer": "ipython3",
   "version": "3.7.4"
  }
 },
 "nbformat": 4,
 "nbformat_minor": 4
}
